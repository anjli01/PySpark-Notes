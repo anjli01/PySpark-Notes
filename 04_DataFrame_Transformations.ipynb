{
  "nbformat": 4,
  "nbformat_minor": 0,
  "metadata": {
    "colab": {
      "provenance": [],
      "include_colab_link": true
    },
    "kernelspec": {
      "name": "python3",
      "display_name": "Python 3"
    },
    "language_info": {
      "name": "python"
    }
  },
  "cells": [
    {
      "cell_type": "markdown",
      "metadata": {
        "id": "view-in-github",
        "colab_type": "text"
      },
      "source": [
        "<a href=\"https://colab.research.google.com/github/anjli01/PySpark-Notes/blob/main/04_DataFrame_Transformations.ipynb\" target=\"_parent\"><img src=\"https://colab.research.google.com/assets/colab-badge.svg\" alt=\"Open In Colab\"/></a>"
      ]
    },
    {
      "cell_type": "markdown",
      "source": [
        "### DataFrame Transformations\n",
        "\n",
        "Transformations are operations that return a new DataFrame. They are lazy and are not executed until an action is called.\n",
        "\n",
        "#### 1. `withColumn()`\n",
        "\n",
        "Used to add a new column or replace an existing column in a DataFrame.\n",
        "\n",
        "*   **Add a new column with a literal value:**"
      ],
      "metadata": {
        "id": "QMH_z4ogJL31"
      }
    },
    {
      "cell_type": "code",
      "source": [
        "from pyspark.sql import SparkSession\n",
        "from pyspark.sql.functions import lit, col\n",
        "\n",
        "spark = SparkSession.builder.appName(\"DFTransformations\").getOrCreate()\n",
        "data = [(\"Alice\", 30), (\"Bob\", 25), (\"Charlie\", 35)]\n",
        "columns = [\"Name\", \"Age\"]\n",
        "df = spark.createDataFrame(data, columns)\n",
        "df.show()"
      ],
      "metadata": {
        "colab": {
          "base_uri": "https://localhost:8080/"
        },
        "id": "k_4Zd_RGZNOf",
        "outputId": "6e9a4765-8723-47bc-92b1-69abed9af502"
      },
      "execution_count": 1,
      "outputs": [
        {
          "output_type": "stream",
          "name": "stdout",
          "text": [
            "+-------+---+\n",
            "|   Name|Age|\n",
            "+-------+---+\n",
            "|  Alice| 30|\n",
            "|    Bob| 25|\n",
            "|Charlie| 35|\n",
            "+-------+---+\n",
            "\n"
          ]
        }
      ]
    },
    {
      "cell_type": "code",
      "source": [
        "# Add a new column 'City' with a literal value \"Unknown\"\n",
        "df_with_city = df.withColumn(\"City\", lit(\"Unknown\"))\n",
        "print(\"After adding 'City' column:\")\n",
        "df_with_city.show()"
      ],
      "metadata": {
        "colab": {
          "base_uri": "https://localhost:8080/"
        },
        "id": "JmK3Wt_na0jV",
        "outputId": "15613179-d65a-46e1-c929-568b5f18485d"
      },
      "execution_count": 2,
      "outputs": [
        {
          "output_type": "stream",
          "name": "stdout",
          "text": [
            "After adding 'City' column:\n",
            "+-------+---+-------+\n",
            "|   Name|Age|   City|\n",
            "+-------+---+-------+\n",
            "|  Alice| 30|Unknown|\n",
            "|    Bob| 25|Unknown|\n",
            "|Charlie| 35|Unknown|\n",
            "+-------+---+-------+\n",
            "\n"
          ]
        }
      ]
    },
    {
      "cell_type": "markdown",
      "source": [
        "*   **Add a new column based on an existing column:**"
      ],
      "metadata": {
        "id": "KeJ0HdBWWmDi"
      }
    },
    {
      "cell_type": "code",
      "execution_count": 3,
      "metadata": {
        "colab": {
          "base_uri": "https://localhost:8080/"
        },
        "id": "UmGjspfoEFGZ",
        "outputId": "8848c41a-c7ee-4e80-b32b-55cb0bc14203"
      },
      "outputs": [
        {
          "output_type": "stream",
          "name": "stdout",
          "text": [
            "After adding 'Age_in_Months' column:\n",
            "+-------+---+-------------+\n",
            "|   Name|Age|Age_in_Months|\n",
            "+-------+---+-------------+\n",
            "|  Alice| 30|          360|\n",
            "|    Bob| 25|          300|\n",
            "|Charlie| 35|          420|\n",
            "+-------+---+-------------+\n",
            "\n"
          ]
        }
      ],
      "source": [
        "# Add a new column 'Age_in_Months' based on 'Age'\n",
        "df_with_months = df.withColumn(\"Age_in_Months\", col(\"Age\") * 12)\n",
        "print(\"After adding 'Age_in_Months' column:\")\n",
        "df_with_months.show()"
      ]
    },
    {
      "cell_type": "markdown",
      "source": [
        "*   **Replace an existing column (e.g., change data type):**"
      ],
      "metadata": {
        "id": "YzsC-cIpWmoa"
      }
    },
    {
      "cell_type": "code",
      "source": [
        "# Replace 'Age' column, converting its type to String\n",
        "df_replaced_age = df.withColumn(\"Age\", col(\"Age\").cast(\"string\"))\n",
        "print(\"After replacing 'Age' column type:\")\n",
        "df_replaced_age.printSchema()\n",
        "df_replaced_age.show()"
      ],
      "metadata": {
        "colab": {
          "base_uri": "https://localhost:8080/"
        },
        "id": "WlD3IwNHWnFn",
        "outputId": "71f9f0b1-3005-4801-fb3b-5b7c5b3413de"
      },
      "execution_count": 4,
      "outputs": [
        {
          "output_type": "stream",
          "name": "stdout",
          "text": [
            "After replacing 'Age' column type:\n",
            "root\n",
            " |-- Name: string (nullable = true)\n",
            " |-- Age: string (nullable = true)\n",
            "\n",
            "+-------+---+\n",
            "|   Name|Age|\n",
            "+-------+---+\n",
            "|  Alice| 30|\n",
            "|    Bob| 25|\n",
            "|Charlie| 35|\n",
            "+-------+---+\n",
            "\n"
          ]
        }
      ]
    },
    {
      "cell_type": "markdown",
      "source": [
        "*(Remember, `withColumn` with an existing name replaces it.)*\n",
        "\n",
        "#### 2. `drop()`\n",
        "\n",
        "Used to remove one or more columns from a DataFrame.\n",
        "\n",
        "*   **Remove a single column:**"
      ],
      "metadata": {
        "id": "erowVi9AWn2j"
      }
    },
    {
      "cell_type": "code",
      "source": [
        "from pyspark.sql import SparkSession\n",
        "\n",
        "spark = SparkSession.builder.appName(\"DFTransformations\").getOrCreate()\n",
        "data = [(\"Alice\", 30, \"New York\"), (\"Bob\", 25, \"London\"), (\"Charlie\", 35, \"Paris\")]\n",
        "columns = [\"Name\", \"Age\", \"City\"]\n",
        "df = spark.createDataFrame(data, columns)\n",
        "df.show()\n",
        "\n",
        "df_no_city = df.drop(\"City\")\n",
        "print(\"After dropping 'City' column:\")\n",
        "df_no_city.show()"
      ],
      "metadata": {
        "colab": {
          "base_uri": "https://localhost:8080/"
        },
        "id": "w0EsGKrsWoVQ",
        "outputId": "60dd2faa-c9be-4bd6-c48d-44afa66a9f4d"
      },
      "execution_count": 5,
      "outputs": [
        {
          "output_type": "stream",
          "name": "stdout",
          "text": [
            "+-------+---+--------+\n",
            "|   Name|Age|    City|\n",
            "+-------+---+--------+\n",
            "|  Alice| 30|New York|\n",
            "|    Bob| 25|  London|\n",
            "|Charlie| 35|   Paris|\n",
            "+-------+---+--------+\n",
            "\n",
            "After dropping 'City' column:\n",
            "+-------+---+\n",
            "|   Name|Age|\n",
            "+-------+---+\n",
            "|  Alice| 30|\n",
            "|    Bob| 25|\n",
            "|Charlie| 35|\n",
            "+-------+---+\n",
            "\n"
          ]
        }
      ]
    },
    {
      "cell_type": "markdown",
      "source": [
        "*   **Remove multiple columns:**"
      ],
      "metadata": {
        "id": "XzpDqnKUWo4M"
      }
    },
    {
      "cell_type": "code",
      "source": [
        "df_no_age_city = df.drop(\"Age\", \"City\")\n",
        "print(\"After dropping 'Age' and 'City' columns:\")\n",
        "df_no_age_city.show()"
      ],
      "metadata": {
        "colab": {
          "base_uri": "https://localhost:8080/"
        },
        "id": "uLUGXAazWpUm",
        "outputId": "7062a566-03f8-474e-d3f5-5a28ab1821e8"
      },
      "execution_count": 6,
      "outputs": [
        {
          "output_type": "stream",
          "name": "stdout",
          "text": [
            "After dropping 'Age' and 'City' columns:\n",
            "+-------+\n",
            "|   Name|\n",
            "+-------+\n",
            "|  Alice|\n",
            "|    Bob|\n",
            "|Charlie|\n",
            "+-------+\n",
            "\n"
          ]
        }
      ]
    },
    {
      "cell_type": "markdown",
      "source": [
        "#### 3. `alias()`\n",
        "\n",
        "Used to rename a column or an expression. It's often used within `select()` or with `col()`.\n",
        "\n",
        "*   **Using `alias()` in `select()` to rename a column:**"
      ],
      "metadata": {
        "id": "63497_f1WpzA"
      }
    },
    {
      "cell_type": "code",
      "source": [
        "from pyspark.sql import SparkSession\n",
        "from pyspark.sql.functions import col\n",
        "\n",
        "spark = SparkSession.builder.appName(\"DFTransformations\").getOrCreate()\n",
        "data = [(\"Alice\", 30), (\"Bob\", 25)]\n",
        "columns = [\"Name\", \"Age\"]\n",
        "df = spark.createDataFrame(data, columns)\n",
        "df.show()\n",
        "\n",
        "df.select(col(\"Name\").alias(\"Full_Name\"), col(\"Age\")).show()"
      ],
      "metadata": {
        "colab": {
          "base_uri": "https://localhost:8080/"
        },
        "id": "r0e_oaa6WqTE",
        "outputId": "b07f6360-d1c4-4327-8274-400e6fa240f5"
      },
      "execution_count": 7,
      "outputs": [
        {
          "output_type": "stream",
          "name": "stdout",
          "text": [
            "+-----+---+\n",
            "| Name|Age|\n",
            "+-----+---+\n",
            "|Alice| 30|\n",
            "|  Bob| 25|\n",
            "+-----+---+\n",
            "\n",
            "+---------+---+\n",
            "|Full_Name|Age|\n",
            "+---------+---+\n",
            "|    Alice| 30|\n",
            "|      Bob| 25|\n",
            "+---------+---+\n",
            "\n"
          ]
        }
      ]
    },
    {
      "cell_type": "markdown",
      "source": [
        "*   **Using `alias()` with an expression in `select()`:**"
      ],
      "metadata": {
        "id": "8xjyLxQnboQ9"
      }
    },
    {
      "cell_type": "code",
      "source": [
        "df.select((col(\"Age\") * 2).alias(\"Double_Age\")).show()"
      ],
      "metadata": {
        "colab": {
          "base_uri": "https://localhost:8080/"
        },
        "id": "la01jmKHbiBu",
        "outputId": "f78601a0-b785-45fa-87c7-8fd17ff69791"
      },
      "execution_count": 8,
      "outputs": [
        {
          "output_type": "stream",
          "name": "stdout",
          "text": [
            "+----------+\n",
            "|Double_Age|\n",
            "+----------+\n",
            "|        60|\n",
            "|        50|\n",
            "+----------+\n",
            "\n"
          ]
        }
      ]
    },
    {
      "cell_type": "markdown",
      "source": [
        "#### 4. `selectExpr()`\n",
        "\n",
        "Allows you to use SQL-like expressions to select columns and apply transformations directly. Highly convenient for complex expressions.\n",
        "\n",
        "*   **Select specific columns and rename:**"
      ],
      "metadata": {
        "id": "cjDCNdJnbtMl"
      }
    },
    {
      "cell_type": "code",
      "source": [
        "from pyspark.sql import SparkSession\n",
        "\n",
        "spark = SparkSession.builder.appName(\"DFTransformations\").getOrCreate()\n",
        "data = [(\"Alice\", 30, \"New York\"), (\"Bob\", 25, \"London\")]\n",
        "columns = [\"Name\", \"Age\", \"City\"]\n",
        "df = spark.createDataFrame(data, columns)\n",
        "df.show()\n",
        "\n",
        "df.selectExpr(\"Name\", \"Age as Person_Age\", \"City\").show()"
      ],
      "metadata": {
        "colab": {
          "base_uri": "https://localhost:8080/"
        },
        "id": "anCYb80Gbqrr",
        "outputId": "abed9900-53ed-46e9-be99-33ed381ccadc"
      },
      "execution_count": 9,
      "outputs": [
        {
          "output_type": "stream",
          "name": "stdout",
          "text": [
            "+-----+---+--------+\n",
            "| Name|Age|    City|\n",
            "+-----+---+--------+\n",
            "|Alice| 30|New York|\n",
            "|  Bob| 25|  London|\n",
            "+-----+---+--------+\n",
            "\n",
            "+-----+----------+--------+\n",
            "| Name|Person_Age|    City|\n",
            "+-----+----------+--------+\n",
            "|Alice|        30|New York|\n",
            "|  Bob|        25|  London|\n",
            "+-----+----------+--------+\n",
            "\n"
          ]
        }
      ]
    },
    {
      "cell_type": "markdown",
      "source": [
        "*   **Perform calculations using SQL expressions:**"
      ],
      "metadata": {
        "id": "GHFvtgcSbz4L"
      }
    },
    {
      "cell_type": "code",
      "source": [
        "df.selectExpr(\"Name\", \"Age * 12 as Age_in_Months\", \"upper(City) as City_Upper\").show()"
      ],
      "metadata": {
        "colab": {
          "base_uri": "https://localhost:8080/"
        },
        "id": "thWlOYxvbwGS",
        "outputId": "902231df-5677-43cd-df0e-a22074ba4518"
      },
      "execution_count": 10,
      "outputs": [
        {
          "output_type": "stream",
          "name": "stdout",
          "text": [
            "+-----+-------------+----------+\n",
            "| Name|Age_in_Months|City_Upper|\n",
            "+-----+-------------+----------+\n",
            "|Alice|          360|  NEW YORK|\n",
            "|  Bob|          300|    LONDON|\n",
            "+-----+-------------+----------+\n",
            "\n"
          ]
        }
      ]
    },
    {
      "cell_type": "markdown",
      "source": [
        "*   **Apply conditional logic (CASE WHEN):**"
      ],
      "metadata": {
        "id": "G-OkDZQqb51u"
      }
    },
    {
      "cell_type": "code",
      "source": [
        "df.selectExpr(\"Name\", \"CASE WHEN Age > 28 THEN 'Adult' ELSE 'Young' END as Category\").show()"
      ],
      "metadata": {
        "colab": {
          "base_uri": "https://localhost:8080/"
        },
        "id": "0ALTUo9Mb25_",
        "outputId": "47372a3c-224e-482b-cfe5-e52e065c2bae"
      },
      "execution_count": 11,
      "outputs": [
        {
          "output_type": "stream",
          "name": "stdout",
          "text": [
            "+-----+--------+\n",
            "| Name|Category|\n",
            "+-----+--------+\n",
            "|Alice|   Adult|\n",
            "|  Bob|   Young|\n",
            "+-----+--------+\n",
            "\n"
          ]
        }
      ]
    },
    {
      "cell_type": "markdown",
      "source": [
        "#### 5. Renaming Columns\n",
        "\n",
        "Spark DataFrames don't have a direct `rename` method like Pandas. You typically use `withColumnRenamed()` or `select()` with `alias()`.\n",
        "\n",
        "*   **`withColumnRenamed()`**: The most common and direct way to rename a *single* column."
      ],
      "metadata": {
        "id": "k3wkyZG7b--E"
      }
    },
    {
      "cell_type": "code",
      "source": [
        "from pyspark.sql import SparkSession\n",
        "\n",
        "spark = SparkSession.builder.appName(\"DFTransformations\").getOrCreate()\n",
        "data = [(\"Alice\", 30), (\"Bob\", 25)]\n",
        "columns = [\"Name\", \"Age\"]\n",
        "df = spark.createDataFrame(data, columns)\n",
        "df.show()"
      ],
      "metadata": {
        "colab": {
          "base_uri": "https://localhost:8080/"
        },
        "id": "USa8CGZWb8jd",
        "outputId": "c0d94dc3-ee41-4d41-fb5e-0a60a5482dc4"
      },
      "execution_count": 12,
      "outputs": [
        {
          "output_type": "stream",
          "name": "stdout",
          "text": [
            "+-----+---+\n",
            "| Name|Age|\n",
            "+-----+---+\n",
            "|Alice| 30|\n",
            "|  Bob| 25|\n",
            "+-----+---+\n",
            "\n"
          ]
        }
      ]
    },
    {
      "cell_type": "code",
      "source": [
        "df_renamed = df.withColumnRenamed(\"Name\", \"Full_Name\")\n",
        "print(\"After renaming 'Name' to 'Full_Name':\")\n",
        "df_renamed.show()"
      ],
      "metadata": {
        "colab": {
          "base_uri": "https://localhost:8080/"
        },
        "id": "1iWs5KoIcBfu",
        "outputId": "dc11994d-7583-48d1-be58-ca3b0b2ddf76"
      },
      "execution_count": 13,
      "outputs": [
        {
          "output_type": "stream",
          "name": "stdout",
          "text": [
            "After renaming 'Name' to 'Full_Name':\n",
            "+---------+---+\n",
            "|Full_Name|Age|\n",
            "+---------+---+\n",
            "|    Alice| 30|\n",
            "|      Bob| 25|\n",
            "+---------+---+\n",
            "\n"
          ]
        }
      ]
    },
    {
      "cell_type": "markdown",
      "source": [
        "*   **Renaming multiple columns:**\n",
        "    *   **Chaining `withColumnRenamed()`**:"
      ],
      "metadata": {
        "id": "DquDCDUFcJJr"
      }
    },
    {
      "cell_type": "code",
      "source": [
        "df_renamed_multiple = df.withColumnRenamed(\"Name\", \"PersonName\").withColumnRenamed(\"Age\", \"PersonAge\")\n",
        "print(\"After renaming multiple columns (chaining):\")\n",
        "df_renamed_multiple.show()"
      ],
      "metadata": {
        "colab": {
          "base_uri": "https://localhost:8080/"
        },
        "id": "SzAy61VwcG_X",
        "outputId": "5a90b9a0-8a47-4752-f9bc-d94a30d00d7d"
      },
      "execution_count": 14,
      "outputs": [
        {
          "output_type": "stream",
          "name": "stdout",
          "text": [
            "After renaming multiple columns (chaining):\n",
            "+----------+---------+\n",
            "|PersonName|PersonAge|\n",
            "+----------+---------+\n",
            "|     Alice|       30|\n",
            "|       Bob|       25|\n",
            "+----------+---------+\n",
            "\n"
          ]
        }
      ]
    },
    {
      "cell_type": "markdown",
      "source": [
        "*   **Using `select()` with `alias()`**: Generally more efficient for many renames, as it's a single transformation."
      ],
      "metadata": {
        "id": "2zcMNqTTcPkG"
      }
    },
    {
      "cell_type": "code",
      "source": [
        "from pyspark.sql.functions import col\n",
        "df_renamed_select = df.select(\n",
        "    col(\"Name\").alias(\"Person_Name\"),\n",
        "    col(\"Age\").alias(\"Person_Age\")\n",
        ")\n",
        "print(\"After renaming multiple columns (using select with alias):\")\n",
        "df_renamed_select.show()"
      ],
      "metadata": {
        "colab": {
          "base_uri": "https://localhost:8080/"
        },
        "id": "KbAVUvEJcNBk",
        "outputId": "0b20eb4d-45df-497a-a352-3e2941323761"
      },
      "execution_count": 15,
      "outputs": [
        {
          "output_type": "stream",
          "name": "stdout",
          "text": [
            "After renaming multiple columns (using select with alias):\n",
            "+-----------+----------+\n",
            "|Person_Name|Person_Age|\n",
            "+-----------+----------+\n",
            "|      Alice|        30|\n",
            "|        Bob|        25|\n",
            "+-----------+----------+\n",
            "\n"
          ]
        }
      ]
    },
    {
      "cell_type": "markdown",
      "source": [
        "---\n",
        "\n",
        "### Chaining Transformations\n",
        "\n",
        "One of the most powerful features of Spark DataFrames is the ability to chain transformations. This makes your code concise, readable, and allows Spark to optimize the entire sequence of operations more effectively due to lazy evaluation.\n",
        "\n",
        "**Example (Python):**"
      ],
      "metadata": {
        "id": "9BaJuHSIcZoF"
      }
    },
    {
      "cell_type": "code",
      "source": [
        "from pyspark.sql import SparkSession\n",
        "from pyspark.sql.functions import col, lit\n",
        "\n",
        "spark = SparkSession.builder.appName(\"ChainingTransformations\").getOrCreate()\n",
        "\n",
        "data = [(\"Alice\", 30, \"NY\", 75000),\n",
        "        (\"Bob\", 25, \"LD\", 60000),\n",
        "        (\"Charlie\", 35, \"NY\", 90000),\n",
        "        (\"David\", 22, \"SF\", 55000),\n",
        "        (\"Eve\", 40, \"LD\", 100000)]\n",
        "columns = [\"Name\", \"Age\", \"City_Code\", \"Salary\"]\n",
        "df = spark.createDataFrame(data, columns)\n",
        "df.show()"
      ],
      "metadata": {
        "colab": {
          "base_uri": "https://localhost:8080/"
        },
        "id": "tz7c-F4kcVDj",
        "outputId": "df6ce4e4-27d2-49a4-c73a-929a108f9825"
      },
      "execution_count": 16,
      "outputs": [
        {
          "output_type": "stream",
          "name": "stdout",
          "text": [
            "+-------+---+---------+------+\n",
            "|   Name|Age|City_Code|Salary|\n",
            "+-------+---+---------+------+\n",
            "|  Alice| 30|       NY| 75000|\n",
            "|    Bob| 25|       LD| 60000|\n",
            "|Charlie| 35|       NY| 90000|\n",
            "|  David| 22|       SF| 55000|\n",
            "|    Eve| 40|       LD|100000|\n",
            "+-------+---+---------+------+\n",
            "\n"
          ]
        }
      ]
    },
    {
      "cell_type": "code",
      "source": [
        "# Chain multiple transformations:\n",
        "# 1. Filter for age > 25\n",
        "# 2. Add a new column 'Bonus' (10% of salary)\n",
        "# 3. Select specific columns and rename 'Age' to 'YearsOld'\n",
        "# 4. Add a literal 'Status' column\n",
        "# 5. Sort by Salary in descending order\n",
        "\n",
        "df_processed = df.filter(col(\"Age\") > 25) \\\n",
        "                 .withColumn(\"Bonus\", col(\"Salary\") * 0.10) \\\n",
        "                 .select(col(\"Name\"),\n",
        "                         col(\"Age\").alias(\"YearsOld\"),\n",
        "                         col(\"Salary\"),\n",
        "                         col(\"Bonus\"),\n",
        "                         lit(\"Processed\").alias(\"Status\")) \\\n",
        "                 .sort(col(\"Salary\").desc()) # Add a sort for good measure\n",
        "\n",
        "print(\"Chained transformations result:\")\n",
        "df_processed.show()\n",
        "\n",
        "spark.stop()"
      ],
      "metadata": {
        "colab": {
          "base_uri": "https://localhost:8080/"
        },
        "id": "DsiUCEyVcfgG",
        "outputId": "a9cf0463-22e4-4ce5-a311-ca1348d3a5f9"
      },
      "execution_count": 17,
      "outputs": [
        {
          "output_type": "stream",
          "name": "stdout",
          "text": [
            "Chained transformations result:\n",
            "+-------+--------+------+-------+---------+\n",
            "|   Name|YearsOld|Salary|  Bonus|   Status|\n",
            "+-------+--------+------+-------+---------+\n",
            "|    Eve|      40|100000|10000.0|Processed|\n",
            "|Charlie|      35| 90000| 9000.0|Processed|\n",
            "|  Alice|      30| 75000| 7500.0|Processed|\n",
            "+-------+--------+------+-------+---------+\n",
            "\n"
          ]
        }
      ]
    },
    {
      "cell_type": "markdown",
      "source": [
        "\n",
        "---\n",
        "\n",
        "### Creating Calculated Columns\n",
        "\n",
        "Calculated columns are new columns derived from existing columns using expressions or functions.\n",
        "\n",
        "**Key functions for calculations:**\n",
        "\n",
        "| Function          | Description                                                                                                                                                                                               |\n",
        "| :---------------- | :-------------------------------------------------------------------------------------------------------------------------------------------------------------------------------------------------------- |\n",
        "| `col(\"column_name\")` | References a column by its name. Essential for performing operations on column values.                                                                                                                      |\n",
        "| `lit(value)`      | Creates a literal column (a column with a constant value) or a literal value within an expression.                                                                                                        |\n",
        "| `when(condition, value).otherwise(default_value)` | Implements conditional logic (like SQL's CASE WHEN). `when` can be chained for multiple conditions. The final `otherwise` provides a default if no conditions are met. |\n",
        "| `concat_ws(\"separator\", col1, col2, ...)` | Concatenates multiple string columns into a single string column, using the specified separator.                                                                                    |\n",
        "| `cast(\"new_type\")`| Converts the data type of a column.                                                                                                                                                                     |\n",
        "\n",
        "**Example (Python):**\n"
      ],
      "metadata": {
        "id": "W-QW14p1cmva"
      }
    },
    {
      "cell_type": "code",
      "source": [
        "from pyspark.sql import SparkSession\n",
        "from pyspark.sql.functions import col, concat_ws, lit, when\n",
        "\n",
        "spark = SparkSession.builder.appName(\"CalculatedColumns\").getOrCreate()\n",
        "\n",
        "data = [(\"Alice\", \"Smith\", 30, 75000),\n",
        "        (\"Bob\", \"Johnson\", 25, 60000),\n",
        "        (\"Charlie\", \"Brown\", 35, 90000)]\n",
        "columns = [\"FirstName\", \"LastName\", \"Age\", \"Salary\"]\n",
        "df = spark.createDataFrame(data, columns)\n",
        "df.show()\n",
        "\n",
        "# 1. Calculate 'FullName'\n",
        "df_full_name = df.withColumn(\"FullName\", concat_ws(\" \", col(\"FirstName\"), col(\"LastName\")))\n",
        "print(\"After adding 'FullName':\")\n",
        "df_full_name.show()"
      ],
      "metadata": {
        "colab": {
          "base_uri": "https://localhost:8080/"
        },
        "id": "RJCPa5-Icix6",
        "outputId": "56a3a565-670a-469d-ceda-9fd465c83264"
      },
      "execution_count": 18,
      "outputs": [
        {
          "output_type": "stream",
          "name": "stdout",
          "text": [
            "+---------+--------+---+------+\n",
            "|FirstName|LastName|Age|Salary|\n",
            "+---------+--------+---+------+\n",
            "|    Alice|   Smith| 30| 75000|\n",
            "|      Bob| Johnson| 25| 60000|\n",
            "|  Charlie|   Brown| 35| 90000|\n",
            "+---------+--------+---+------+\n",
            "\n",
            "After adding 'FullName':\n",
            "+---------+--------+---+------+-------------+\n",
            "|FirstName|LastName|Age|Salary|     FullName|\n",
            "+---------+--------+---+------+-------------+\n",
            "|    Alice|   Smith| 30| 75000|  Alice Smith|\n",
            "|      Bob| Johnson| 25| 60000|  Bob Johnson|\n",
            "|  Charlie|   Brown| 35| 90000|Charlie Brown|\n",
            "+---------+--------+---+------+-------------+\n",
            "\n"
          ]
        }
      ]
    },
    {
      "cell_type": "code",
      "source": [
        "# 2. Calculate 'AnnualBonus' with conditional logic (using when/otherwise)\n",
        "# 10% of salary if age > 30, else 5%\n",
        "df_bonus = df.withColumn(\"AnnualBonus\",\n",
        "                         when(col(\"Age\") > 30, col(\"Salary\") * 0.10)\n",
        "                         .otherwise(col(\"Salary\") * 0.05))\n",
        "print(\"After adding 'AnnualBonus':\")\n",
        "df_bonus.show()"
      ],
      "metadata": {
        "colab": {
          "base_uri": "https://localhost:8080/"
        },
        "id": "ti9RDiBkcw9D",
        "outputId": "99868d1a-bfcb-4648-ed49-b338830672b1"
      },
      "execution_count": 19,
      "outputs": [
        {
          "output_type": "stream",
          "name": "stdout",
          "text": [
            "After adding 'AnnualBonus':\n",
            "+---------+--------+---+------+-----------+\n",
            "|FirstName|LastName|Age|Salary|AnnualBonus|\n",
            "+---------+--------+---+------+-----------+\n",
            "|    Alice|   Smith| 30| 75000|     3750.0|\n",
            "|      Bob| Johnson| 25| 60000|     3000.0|\n",
            "|  Charlie|   Brown| 35| 90000|     9000.0|\n",
            "+---------+--------+---+------+-----------+\n",
            "\n"
          ]
        }
      ]
    },
    {
      "cell_type": "code",
      "source": [
        "# 3. Combine multiple calculations and selections (chained withColumn and when)\n",
        "df_combined = df.withColumn(\"FullName\", concat_ws(\" \", col(\"FirstName\"), col(\"LastName\"))) \\\n",
        "                .withColumn(\"ExperienceCategory\",\n",
        "                            when(col(\"Age\") < 28, \"Junior\")\n",
        "                            .when(col(\"Age\") < 35, \"Mid-level\") # This condition is checked if the first one is false\n",
        "                            .otherwise(\"Senior\")) \\\n",
        "                .select(\"FullName\", \"Age\", \"Salary\", \"ExperienceCategory\")\n",
        "\n",
        "print(\"After combining multiple calculations:\")\n",
        "df_combined.show()\n",
        "\n",
        "spark.stop()"
      ],
      "metadata": {
        "colab": {
          "base_uri": "https://localhost:8080/"
        },
        "id": "AmkxAQUdcy2L",
        "outputId": "16908a7b-4b47-4f6e-9fc0-aa2bfdf05b74"
      },
      "execution_count": 20,
      "outputs": [
        {
          "output_type": "stream",
          "name": "stdout",
          "text": [
            "After combining multiple calculations:\n",
            "+-------------+---+------+------------------+\n",
            "|     FullName|Age|Salary|ExperienceCategory|\n",
            "+-------------+---+------+------------------+\n",
            "|  Alice Smith| 30| 75000|         Mid-level|\n",
            "|  Bob Johnson| 25| 60000|            Junior|\n",
            "|Charlie Brown| 35| 90000|            Senior|\n",
            "+-------------+---+------+------------------+\n",
            "\n"
          ]
        }
      ]
    }
  ]
}